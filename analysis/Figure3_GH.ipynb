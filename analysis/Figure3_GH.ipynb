{
 "cells": [
  {
   "cell_type": "code",
   "execution_count": 1,
   "metadata": {},
   "outputs": [
    {
     "name": "stderr",
     "output_type": "stream",
     "text": [
      "/Users/colleenmclaughlin/opt/anaconda3/lib/python3.7/site-packages/statsmodels/tools/_testing.py:19: FutureWarning: pandas.util.testing is deprecated. Use the functions in the public API at pandas.testing instead.\n",
      "  import pandas.util.testing as tm\n"
     ]
    }
   ],
   "source": [
    "from __future__ import division\n",
    "import sys\n",
    "import random\n",
    "import copy\n",
    "import math\n",
    "import json\n",
    "\n",
    "import numpy as np\n",
    "import pandas as pd\n",
    "import scipy\n",
    "\n",
    "\n",
    "%matplotlib inline\n",
    "from matplotlib import pyplot as plt\n",
    "import matplotlib as mpl\n",
    "\n",
    "import seaborn as sns\n",
    "\n",
    "sys.path.append(\"../resources/\")\n",
    "import sct_py3\n",
    "sns.set_style(\"ticks\")\n",
    "sns.set_context(\"talk\")\n",
    "\n",
    "output_dir = \"out/\"\n",
    "output_suffix = \"\"\n",
    "output_formats = [\".png\", \".pdf\"]\n",
    "\n",
    "\n",
    "mpl.rc('savefig', dpi=300)\n",
    "\n",
    "def save_figure(fig, name):\n",
    "    for output_format in output_formats:\n",
    "        fig.savefig(output_dir + \"/\" + name + output_suffix + output_format)\n",
    "    return None\n",
    "\n",
    "mpl.rc('savefig', dpi=300)\n",
    "\n",
    "pd.options.mode.chained_assignment = None  # default='warn'\n"
   ]
  },
  {
   "cell_type": "code",
   "execution_count": 2,
   "metadata": {},
   "outputs": [],
   "source": [
    "df_ORN_24h = pd.read_csv('../data/htseq_ORN_cell_LogCPM_10plates_hq50k_neuron2-5.tab.gz', sep=\"\\t\", header=0, index_col=0)"
   ]
  },
  {
   "cell_type": "code",
   "execution_count": 3,
   "metadata": {},
   "outputs": [
    {
     "name": "stdout",
     "output_type": "stream",
     "text": [
      "names_hq_ORNs\n"
     ]
    },
    {
     "data": {
      "text/plain": [
       "(None, 986)"
      ]
     },
     "execution_count": 3,
     "metadata": {},
     "output_type": "execute_result"
    }
   ],
   "source": [
    "names_hq_ORNs = []\n",
    "with open(\"../resources/Figure4/986_hq_24h_ORNs_Acj6pos.txt\") as f:\n",
    "    for line in f:\n",
    "        names_hq_ORNs.append(line.rstrip())\n",
    "print (\"names_hq_ORNs\"), len(names_hq_ORNs)"
   ]
  },
  {
   "cell_type": "code",
   "execution_count": 4,
   "metadata": {},
   "outputs": [
    {
     "data": {
      "text/html": [
       "<div>\n",
       "<style scoped>\n",
       "    .dataframe tbody tr th:only-of-type {\n",
       "        vertical-align: middle;\n",
       "    }\n",
       "\n",
       "    .dataframe tbody tr th {\n",
       "        vertical-align: top;\n",
       "    }\n",
       "\n",
       "    .dataframe thead th {\n",
       "        text-align: right;\n",
       "    }\n",
       "</style>\n",
       "<table border=\"1\" class=\"dataframe\">\n",
       "  <thead>\n",
       "    <tr style=\"text-align: right;\">\n",
       "      <th></th>\n",
       "      <th>pooled_library</th>\n",
       "      <th>SampleID</th>\n",
       "      <th>Index</th>\n",
       "      <th>num</th>\n",
       "      <th>experiment</th>\n",
       "      <th>plate</th>\n",
       "      <th>well</th>\n",
       "      <th>num_cells</th>\n",
       "      <th>num_mapped_reads</th>\n",
       "      <th>color</th>\n",
       "      <th>genotype</th>\n",
       "      <th>colorHL</th>\n",
       "      <th>label</th>\n",
       "    </tr>\n",
       "    <tr>\n",
       "      <th>library</th>\n",
       "      <th></th>\n",
       "      <th></th>\n",
       "      <th></th>\n",
       "      <th></th>\n",
       "      <th></th>\n",
       "      <th></th>\n",
       "      <th></th>\n",
       "      <th></th>\n",
       "      <th></th>\n",
       "      <th></th>\n",
       "      <th></th>\n",
       "      <th></th>\n",
       "      <th></th>\n",
       "    </tr>\n",
       "  </thead>\n",
       "  <tbody>\n",
       "    <tr>\n",
       "      <th>N447Barcode_701-502</th>\n",
       "      <td>N477</td>\n",
       "      <td>1000100701-A1-flybrain-1</td>\n",
       "      <td>TAAGGCGA-ATAGAGAG</td>\n",
       "      <td>2477.0</td>\n",
       "      <td>13.0</td>\n",
       "      <td>1000100701</td>\n",
       "      <td>A1</td>\n",
       "      <td>1.0</td>\n",
       "      <td>NaN</td>\n",
       "      <td>#a3eb13</td>\n",
       "      <td>nSyb_48h_ORN</td>\n",
       "      <td>#e31a1c</td>\n",
       "      <td>nSyb_48h_ORN_P0</td>\n",
       "    </tr>\n",
       "    <tr>\n",
       "      <th>N447Barcode_702-502</th>\n",
       "      <td>N447</td>\n",
       "      <td>1000100701-A2-flybrain-1</td>\n",
       "      <td>CGTACTAG-ATAGAGAG</td>\n",
       "      <td>2478.0</td>\n",
       "      <td>13.0</td>\n",
       "      <td>1000100701</td>\n",
       "      <td>A2</td>\n",
       "      <td>1.0</td>\n",
       "      <td>NaN</td>\n",
       "      <td>#a3eb13</td>\n",
       "      <td>nSyb_48h_ORN</td>\n",
       "      <td>#e31a1c</td>\n",
       "      <td>nSyb_48h_ORN_P0</td>\n",
       "    </tr>\n",
       "    <tr>\n",
       "      <th>N447Barcode_703-502</th>\n",
       "      <td>N447</td>\n",
       "      <td>1000100701-A3-flybrain-1</td>\n",
       "      <td>AGGCAGAA-ATAGAGAG</td>\n",
       "      <td>2479.0</td>\n",
       "      <td>13.0</td>\n",
       "      <td>1000100701</td>\n",
       "      <td>A3</td>\n",
       "      <td>1.0</td>\n",
       "      <td>NaN</td>\n",
       "      <td>#a3eb13</td>\n",
       "      <td>nSyb_48h_ORN</td>\n",
       "      <td>#e31a1c</td>\n",
       "      <td>nSyb_48h_ORN_P0</td>\n",
       "    </tr>\n",
       "    <tr>\n",
       "      <th>N447Barcode_704-502</th>\n",
       "      <td>N447</td>\n",
       "      <td>1000100701-A4-flybrain-1</td>\n",
       "      <td>TCCTGAGC-ATAGAGAG</td>\n",
       "      <td>2480.0</td>\n",
       "      <td>13.0</td>\n",
       "      <td>1000100701</td>\n",
       "      <td>A4</td>\n",
       "      <td>1.0</td>\n",
       "      <td>NaN</td>\n",
       "      <td>#a3eb13</td>\n",
       "      <td>nSyb_48h_ORN</td>\n",
       "      <td>#e31a1c</td>\n",
       "      <td>nSyb_48h_ORN_P0</td>\n",
       "    </tr>\n",
       "    <tr>\n",
       "      <th>N447Barcode_705-502</th>\n",
       "      <td>N447</td>\n",
       "      <td>1000100701-A5-flybrain-1</td>\n",
       "      <td>GGACTCCT-ATAGAGAG</td>\n",
       "      <td>2481.0</td>\n",
       "      <td>13.0</td>\n",
       "      <td>1000100701</td>\n",
       "      <td>A5</td>\n",
       "      <td>1.0</td>\n",
       "      <td>NaN</td>\n",
       "      <td>#a3eb13</td>\n",
       "      <td>nSyb_48h_ORN</td>\n",
       "      <td>#e31a1c</td>\n",
       "      <td>nSyb_48h_ORN_P0</td>\n",
       "    </tr>\n",
       "  </tbody>\n",
       "</table>\n",
       "</div>"
      ],
      "text/plain": [
       "                    pooled_library                  SampleID  \\\n",
       "library                                                        \n",
       "N447Barcode_701-502           N477  1000100701-A1-flybrain-1   \n",
       "N447Barcode_702-502           N447  1000100701-A2-flybrain-1   \n",
       "N447Barcode_703-502           N447  1000100701-A3-flybrain-1   \n",
       "N447Barcode_704-502           N447  1000100701-A4-flybrain-1   \n",
       "N447Barcode_705-502           N447  1000100701-A5-flybrain-1   \n",
       "\n",
       "                                 Index     num  experiment       plate well  \\\n",
       "library                                                                       \n",
       "N447Barcode_701-502  TAAGGCGA-ATAGAGAG  2477.0        13.0  1000100701   A1   \n",
       "N447Barcode_702-502  CGTACTAG-ATAGAGAG  2478.0        13.0  1000100701   A2   \n",
       "N447Barcode_703-502  AGGCAGAA-ATAGAGAG  2479.0        13.0  1000100701   A3   \n",
       "N447Barcode_704-502  TCCTGAGC-ATAGAGAG  2480.0        13.0  1000100701   A4   \n",
       "N447Barcode_705-502  GGACTCCT-ATAGAGAG  2481.0        13.0  1000100701   A5   \n",
       "\n",
       "                     num_cells  num_mapped_reads    color      genotype  \\\n",
       "library                                                                   \n",
       "N447Barcode_701-502        1.0               NaN  #a3eb13  nSyb_48h_ORN   \n",
       "N447Barcode_702-502        1.0               NaN  #a3eb13  nSyb_48h_ORN   \n",
       "N447Barcode_703-502        1.0               NaN  #a3eb13  nSyb_48h_ORN   \n",
       "N447Barcode_704-502        1.0               NaN  #a3eb13  nSyb_48h_ORN   \n",
       "N447Barcode_705-502        1.0               NaN  #a3eb13  nSyb_48h_ORN   \n",
       "\n",
       "                     colorHL            label  \n",
       "library                                        \n",
       "N447Barcode_701-502  #e31a1c  nSyb_48h_ORN_P0  \n",
       "N447Barcode_702-502  #e31a1c  nSyb_48h_ORN_P0  \n",
       "N447Barcode_703-502  #e31a1c  nSyb_48h_ORN_P0  \n",
       "N447Barcode_704-502  #e31a1c  nSyb_48h_ORN_P0  \n",
       "N447Barcode_705-502  #e31a1c  nSyb_48h_ORN_P0  "
      ]
     },
     "execution_count": 4,
     "metadata": {},
     "output_type": "execute_result"
    }
   ],
   "source": [
    "df_libs = pd.read_csv('../data/PN_ORN_libs_CNM.csv', sep=\",\", header=0, index_col=0)\n",
    "df_libs.head()\n"
   ]
  },
  {
   "cell_type": "code",
   "execution_count": 5,
   "metadata": {},
   "outputs": [
    {
     "data": {
      "text/plain": [
       "(17472, 986)"
      ]
     },
     "execution_count": 5,
     "metadata": {},
     "output_type": "execute_result"
    }
   ],
   "source": [
    "df = df_ORN_24h[list(names_hq_ORNs)]\n",
    "df.shape"
   ]
  },
  {
   "cell_type": "code",
   "execution_count": 6,
   "metadata": {},
   "outputs": [
    {
     "data": {
      "text/plain": [
       "16"
      ]
     },
     "execution_count": 6,
     "metadata": {},
     "output_type": "execute_result"
    }
   ],
   "source": [
    "receptors_24h = []\n",
    "with open('../data/Figure3/24h_receptors>=3>5cells.txt') as f:\n",
    "    for line in f: \n",
    "        receptors_24h.append(line.rstrip())\n",
    "len(receptors_24h)"
   ]
  },
  {
   "cell_type": "code",
   "execution_count": 7,
   "metadata": {},
   "outputs": [],
   "source": [
    "X = df"
   ]
  },
  {
   "cell_type": "code",
   "execution_count": 8,
   "metadata": {},
   "outputs": [
    {
     "data": {
      "text/plain": [
       "['Orco',\n",
       " 'Or42b',\n",
       " 'Or43b',\n",
       " 'Or85f',\n",
       " 'Or9a',\n",
       " 'Ir25a',\n",
       " 'Ir41a',\n",
       " 'Ir68a',\n",
       " 'Ir75d',\n",
       " 'Ir76a',\n",
       " 'Ir93a',\n",
       " 'Gr10b',\n",
       " 'Gr21a',\n",
       " 'Gr61a',\n",
       " 'Gr64a',\n",
       " 'Gr93a']"
      ]
     },
     "execution_count": 8,
     "metadata": {},
     "output_type": "execute_result"
    }
   ],
   "source": [
    "receptors_24h"
   ]
  },
  {
   "cell_type": "code",
   "execution_count": 9,
   "metadata": {},
   "outputs": [],
   "source": [
    "#remove co-receptors from 24h receptor list\n",
    "receptors_24h.remove('Orco')\n",
    "receptors_24h.remove('Ir25a')\n"
   ]
  },
  {
   "cell_type": "code",
   "execution_count": 10,
   "metadata": {},
   "outputs": [
    {
     "data": {
      "text/plain": [
       "['Or42b',\n",
       " 'Or43b',\n",
       " 'Or85f',\n",
       " 'Or9a',\n",
       " 'Ir41a',\n",
       " 'Ir68a',\n",
       " 'Ir75d',\n",
       " 'Ir76a',\n",
       " 'Ir93a',\n",
       " 'Gr10b',\n",
       " 'Gr21a',\n",
       " 'Gr61a',\n",
       " 'Gr64a',\n",
       " 'Gr93a']"
      ]
     },
     "execution_count": 10,
     "metadata": {},
     "output_type": "execute_result"
    }
   ],
   "source": [
    "receptors_24h"
   ]
  },
  {
   "cell_type": "code",
   "execution_count": 11,
   "metadata": {},
   "outputs": [
    {
     "name": "stdout",
     "output_type": "stream",
     "text": [
      "(14, 986)\n"
     ]
    }
   ],
   "source": [
    "genes = ['Or42b', 'Gr21a',  'Gr93a','Gr10b','Or85f','Ir76a','Gr61a','Gr64a','Or9a','Ir68a','Ir41a','Or43b', 'Ir93a','Ir75d',\n",
    "          ]\n",
    "\n",
    "Z = X.loc[genes]\n",
    "print (Z.shape)"
   ]
  },
  {
   "cell_type": "code",
   "execution_count": 12,
   "metadata": {},
   "outputs": [
    {
     "data": {
      "text/plain": [
       "[]"
      ]
     },
     "execution_count": 12,
     "metadata": {},
     "output_type": "execute_result"
    },
    {
     "data": {
      "image/png": "[encoded data removed]",
      "text/plain": [
       "<Figure size 1080x504 with 4 Axes>"
      ]
     },
     "metadata": {},
     "output_type": "display_data"
    }
   ],
   "source": [
    "# Calculate clustering and plot\n",
    "cm = sns.clustermap(Z, method=\"weighted\", cmap=\"plasma\", figsize=(15,7),row_cluster=False, col_cluster=True) \n",
    "plt.setp(cm.ax_heatmap.yaxis.get_majorticklabels(), rotation=0)\n",
    "cm.ax_heatmap.set_ylabel(\"Gene\", )\n",
    "cm.ax_heatmap.set_xticks([])\n",
    "cm.ax_heatmap.set_xticklabels([])"
   ]
  }
 ],
 "metadata": {
  "kernelspec": {
   "display_name": "Python 3",
   "language": "python",
   "name": "python3"
  },
  "language_info": {
   "codemirror_mode": {
    "name": "ipython",
    "version": 3
   },
   "file_extension": ".py",
   "mimetype": "text/x-python",
   "name": "python",
   "nbconvert_exporter": "python",
   "pygments_lexer": "ipython3",
   "version": "3.7.6"
  }
 },
 "nbformat": 4,
 "nbformat_minor": 2
}
